{
  "cells": [
    {
      "cell_type": "markdown",
      "metadata": {
        "id": "view-in-github",
        "colab_type": "text"
      },
      "source": [
        "<a href=\"https://colab.research.google.com/github/Nithya9404/Exploratory_data_analysis/blob/main/Email_challenge.ipynb\" target=\"_parent\"><img src=\"https://colab.research.google.com/assets/colab-badge.svg\" alt=\"Open In Colab\"/></a>"
      ]
    },
    {
      "cell_type": "code",
      "execution_count": null,
      "metadata": {
        "id": "SDcyAUkznM1C"
      },
      "outputs": [],
      "source": [
        "import pandas as pd\n",
        "import numpy as np"
      ]
    },
    {
      "cell_type": "code",
      "execution_count": null,
      "metadata": {
        "colab": {
          "base_uri": "https://localhost:8080/"
        },
        "id": "FRmSQiaqnfDg",
        "outputId": "ce27c21f-6c81-4701-e0a7-127587265db9"
      },
      "outputs": [
        {
          "data": {
            "text/plain": [
              "<mailbox.mbox at 0x7f1062c373d0>"
            ]
          },
          "execution_count": 2,
          "metadata": {},
          "output_type": "execute_result"
        }
      ],
      "source": [
        "import mailbox\n",
        "mboxfile = \"/content/MyEmailbox2.mbox\"\n",
        "mbox = mailbox.mbox(mboxfile)\n",
        "mbox"
      ]
    },
    {
      "cell_type": "code",
      "execution_count": null,
      "metadata": {
        "colab": {
          "base_uri": "https://localhost:8080/"
        },
        "id": "3y8JhAQ2nw66",
        "outputId": "595164f8-2a8c-4b8d-d9a9-4d521342a081"
      },
      "outputs": [
        {
          "name": "stdout",
          "output_type": "stream",
          "text": [
            "X-GM-THRID\n",
            "X-Gmail-Labels\n",
            "Delivered-To\n",
            "Received\n",
            "X-Received\n",
            "ARC-Seal\n",
            "ARC-Message-Signature\n",
            "ARC-Authentication-Results\n",
            "Return-Path\n",
            "Received\n",
            "Received-SPF\n",
            "Authentication-Results\n",
            "DKIM-Signature\n",
            "X-Google-DKIM-Signature\n",
            "X-Gm-Message-State\n",
            "X-Google-Smtp-Source\n",
            "X-Received\n",
            "MIME-Version\n",
            "From\n",
            "Date\n",
            "Message-ID\n",
            "Subject\n",
            "To\n",
            "Cc\n",
            "Content-Type\n"
          ]
        }
      ],
      "source": [
        "for i in mbox[0].keys():\n",
        "  print(i)"
      ]
    },
    {
      "cell_type": "code",
      "execution_count": null,
      "metadata": {
        "id": "ZfxA1_dZn1Vp"
      },
      "outputs": [],
      "source": [
        "import csv\n",
        "with open('mailbox.csv', 'w') as outputfile:\n",
        " writer = csv.writer(outputfile)\n",
        " writer.writerow(['subject','from','date','to','Cc','recieved'])\n",
        " for message in mbox:\n",
        "   writer.writerow([\n",
        " message['subject'],\n",
        " message['from'],\n",
        " message['date'],\n",
        " message['to'],\n",
        " message['Cc'],\n",
        " message['Received']\n",
        " ]\n",
        " )\n"
      ]
    },
    {
      "cell_type": "code",
      "execution_count": null,
      "metadata": {
        "colab": {
          "base_uri": "https://localhost:8080/",
          "height": 875
        },
        "id": "WNpYzFgGn-Sq",
        "outputId": "ca9f4d6c-8d33-40cd-d275-80ee8921e1f8"
      },
      "outputs": [
        {
          "data": {
            "text/html": [
              "\n",
              "  <div id=\"df-1e282d80-d0c7-46d3-805e-f458e9ce4756\">\n",
              "    <div class=\"colab-df-container\">\n",
              "      <div>\n",
              "<style scoped>\n",
              "    .dataframe tbody tr th:only-of-type {\n",
              "        vertical-align: middle;\n",
              "    }\n",
              "\n",
              "    .dataframe tbody tr th {\n",
              "        vertical-align: top;\n",
              "    }\n",
              "\n",
              "    .dataframe thead th {\n",
              "        text-align: right;\n",
              "    }\n",
              "</style>\n",
              "<table border=\"1\" class=\"dataframe\">\n",
              "  <thead>\n",
              "    <tr style=\"text-align: right;\">\n",
              "      <th></th>\n",
              "      <th>subject</th>\n",
              "      <th>from</th>\n",
              "      <th>date</th>\n",
              "      <th>to</th>\n",
              "      <th>Cc</th>\n",
              "      <th>recieved</th>\n",
              "    </tr>\n",
              "  </thead>\n",
              "  <tbody>\n",
              "    <tr>\n",
              "      <th>0</th>\n",
              "      <td>subject</td>\n",
              "      <td>from</td>\n",
              "      <td>date</td>\n",
              "      <td>to</td>\n",
              "      <td>Cc</td>\n",
              "      <td>recieved</td>\n",
              "    </tr>\n",
              "    <tr>\n",
              "      <th>1</th>\n",
              "      <td>ISO New Form - reg.</td>\n",
              "      <td>rit iso &lt;ritiso@ritrjpm.ac.in&gt;</td>\n",
              "      <td>Thu, 25 Aug 2022 12:47:41 +0530</td>\n",
              "      <td>faculty@ritrjpm.ac.in</td>\n",
              "      <td>principal@ritrjpm.ac.in, vp@ritrjpm.ac.in, \\r\\...</td>\n",
              "      <td>by 2002:a05:7011:287:b0:2ed:b29:cc43 with SMTP...</td>\n",
              "    </tr>\n",
              "    <tr>\n",
              "      <th>2</th>\n",
              "      <td>Re: Academic audit report -reg</td>\n",
              "      <td>Gnana Priya G &lt;gnanapriya@ritrjpm.ac.in&gt;</td>\n",
              "      <td>Tue, 16 Aug 2022 11:08:05 +0530</td>\n",
              "      <td>academiccoordinator rit &lt;academiccoordinator@r...</td>\n",
              "      <td>NaN</td>\n",
              "      <td>by 2002:a05:7011:287:b0:2ed:b29:cc43 with SMTP...</td>\n",
              "    </tr>\n",
              "    <tr>\n",
              "      <th>3</th>\n",
              "      <td>Academic audit report -reg</td>\n",
              "      <td>academiccoordinator rit &lt;academiccoordinator@r...</td>\n",
              "      <td>Tue, 16 Aug 2022 10:42:23 +0530</td>\n",
              "      <td>Gnana Priya &lt;gnanapriya@ritrjpm.ac.in&gt;</td>\n",
              "      <td>NaN</td>\n",
              "      <td>NaN</td>\n",
              "    </tr>\n",
              "    <tr>\n",
              "      <th>4</th>\n",
              "      <td>V and VII semester open Elective list with han...</td>\n",
              "      <td>academiccoordinator rit &lt;academiccoordinator@r...</td>\n",
              "      <td>Mon, 8 Aug 2022 14:58:53 +0530</td>\n",
              "      <td>yogaraja C A &lt;yogaraja@ritrjpm.ac.in&gt;</td>\n",
              "      <td>Indhumathi M &lt;indhumathi@ritrjpm.ac.in&gt;, \\r\\n\\...</td>\n",
              "      <td>NaN</td>\n",
              "    </tr>\n",
              "    <tr>\n",
              "      <th>5</th>\n",
              "      <td>Corrected Academic calender -2022-2023-III sel...</td>\n",
              "      <td>ritacademiccoordinator rit &lt;ritacademiccoordin...</td>\n",
              "      <td>Thu, 25 Aug 2022 12:01:56 +0530</td>\n",
              "      <td>faculty@ritrjpm.ac.in</td>\n",
              "      <td>Principal &lt;principal@ritrjpm.ac.in&gt;, vice prin...</td>\n",
              "      <td>NaN</td>\n",
              "    </tr>\n",
              "    <tr>\n",
              "      <th>6</th>\n",
              "      <td>Fwd: CIRCULAR-RIT/Academic/2022-2023/Faculty M...</td>\n",
              "      <td>academiccoordinator rit &lt;academiccoordinator@r...</td>\n",
              "      <td>Wed, 10 Aug 2022 13:00:04 +0530</td>\n",
              "      <td>faculty@ritrjpm.ac.in</td>\n",
              "      <td>Principal &lt;principal@ritrjpm.ac.in&gt;, vice prin...</td>\n",
              "      <td>NaN</td>\n",
              "    </tr>\n",
              "    <tr>\n",
              "      <th>7</th>\n",
              "      <td>CIRCULAR-RIT/Academic/2022-2023/Faculty Meetin...</td>\n",
              "      <td>academiccoordinator rit &lt;academiccoordinator@r...</td>\n",
              "      <td>Fri, 5 Aug 2022 16:38:25 +0530</td>\n",
              "      <td>faculty@ritrjpm.ac.in</td>\n",
              "      <td>Principal &lt;principal@ritrjpm.ac.in&gt;, vice prin...</td>\n",
              "      <td>NaN</td>\n",
              "    </tr>\n",
              "    <tr>\n",
              "      <th>8</th>\n",
              "      <td>suggested additional hours - III semester cour...</td>\n",
              "      <td>academiccoordinator rit &lt;academiccoordinator@r...</td>\n",
              "      <td>Mon, 22 Aug 2022 11:21:45 +0530</td>\n",
              "      <td>Vijayalakshmi K &lt;vijayalakshmik@ritrjpm.ac.in&gt;...</td>\n",
              "      <td>NaN</td>\n",
              "      <td>NaN</td>\n",
              "    </tr>\n",
              "    <tr>\n",
              "      <th>9</th>\n",
              "      <td>Share request for \"AD 2022-2026\"</td>\n",
              "      <td>\"Anbarasan C (via Google Sheets)\" &lt;drive-share...</td>\n",
              "      <td>Wed, 03 Aug 2022 09:36:14 +0000</td>\n",
              "      <td>academiccoordinator@ritrjpm.ac.in</td>\n",
              "      <td>NaN</td>\n",
              "      <td>by 2002:a05:7011:b90:b0:2ec:841e:4bfe with SMT...</td>\n",
              "    </tr>\n",
              "  </tbody>\n",
              "</table>\n",
              "</div>\n",
              "      <button class=\"colab-df-convert\" onclick=\"convertToInteractive('df-1e282d80-d0c7-46d3-805e-f458e9ce4756')\"\n",
              "              title=\"Convert this dataframe to an interactive table.\"\n",
              "              style=\"display:none;\">\n",
              "        \n",
              "  <svg xmlns=\"http://www.w3.org/2000/svg\" height=\"24px\"viewBox=\"0 0 24 24\"\n",
              "       width=\"24px\">\n",
              "    <path d=\"M0 0h24v24H0V0z\" fill=\"none\"/>\n",
              "    <path d=\"M18.56 5.44l.94 2.06.94-2.06 2.06-.94-2.06-.94-.94-2.06-.94 2.06-2.06.94zm-11 1L8.5 8.5l.94-2.06 2.06-.94-2.06-.94L8.5 2.5l-.94 2.06-2.06.94zm10 10l.94 2.06.94-2.06 2.06-.94-2.06-.94-.94-2.06-.94 2.06-2.06.94z\"/><path d=\"M17.41 7.96l-1.37-1.37c-.4-.4-.92-.59-1.43-.59-.52 0-1.04.2-1.43.59L10.3 9.45l-7.72 7.72c-.78.78-.78 2.05 0 2.83L4 21.41c.39.39.9.59 1.41.59.51 0 1.02-.2 1.41-.59l7.78-7.78 2.81-2.81c.8-.78.8-2.07 0-2.86zM5.41 20L4 18.59l7.72-7.72 1.47 1.35L5.41 20z\"/>\n",
              "  </svg>\n",
              "      </button>\n",
              "      \n",
              "  <style>\n",
              "    .colab-df-container {\n",
              "      display:flex;\n",
              "      flex-wrap:wrap;\n",
              "      gap: 12px;\n",
              "    }\n",
              "\n",
              "    .colab-df-convert {\n",
              "      background-color: #E8F0FE;\n",
              "      border: none;\n",
              "      border-radius: 50%;\n",
              "      cursor: pointer;\n",
              "      display: none;\n",
              "      fill: #1967D2;\n",
              "      height: 32px;\n",
              "      padding: 0 0 0 0;\n",
              "      width: 32px;\n",
              "    }\n",
              "\n",
              "    .colab-df-convert:hover {\n",
              "      background-color: #E2EBFA;\n",
              "      box-shadow: 0px 1px 2px rgba(60, 64, 67, 0.3), 0px 1px 3px 1px rgba(60, 64, 67, 0.15);\n",
              "      fill: #174EA6;\n",
              "    }\n",
              "\n",
              "    [theme=dark] .colab-df-convert {\n",
              "      background-color: #3B4455;\n",
              "      fill: #D2E3FC;\n",
              "    }\n",
              "\n",
              "    [theme=dark] .colab-df-convert:hover {\n",
              "      background-color: #434B5C;\n",
              "      box-shadow: 0px 1px 3px 1px rgba(0, 0, 0, 0.15);\n",
              "      filter: drop-shadow(0px 1px 2px rgba(0, 0, 0, 0.3));\n",
              "      fill: #FFFFFF;\n",
              "    }\n",
              "  </style>\n",
              "\n",
              "      <script>\n",
              "        const buttonEl =\n",
              "          document.querySelector('#df-1e282d80-d0c7-46d3-805e-f458e9ce4756 button.colab-df-convert');\n",
              "        buttonEl.style.display =\n",
              "          google.colab.kernel.accessAllowed ? 'block' : 'none';\n",
              "\n",
              "        async function convertToInteractive(key) {\n",
              "          const element = document.querySelector('#df-1e282d80-d0c7-46d3-805e-f458e9ce4756');\n",
              "          const dataTable =\n",
              "            await google.colab.kernel.invokeFunction('convertToInteractive',\n",
              "                                                     [key], {});\n",
              "          if (!dataTable) return;\n",
              "\n",
              "          const docLinkHtml = 'Like what you see? Visit the ' +\n",
              "            '<a target=\"_blank\" href=https://colab.research.google.com/notebooks/data_table.ipynb>data table notebook</a>'\n",
              "            + ' to learn more about interactive tables.';\n",
              "          element.innerHTML = '';\n",
              "          dataTable['output_type'] = 'display_data';\n",
              "          await google.colab.output.renderOutput(dataTable, element);\n",
              "          const docLink = document.createElement('div');\n",
              "          docLink.innerHTML = docLinkHtml;\n",
              "          element.appendChild(docLink);\n",
              "        }\n",
              "      </script>\n",
              "    </div>\n",
              "  </div>\n",
              "  "
            ],
            "text/plain": [
              "                                             subject  \\\n",
              "0                                            subject   \n",
              "1                                ISO New Form - reg.   \n",
              "2                     Re: Academic audit report -reg   \n",
              "3                         Academic audit report -reg   \n",
              "4  V and VII semester open Elective list with han...   \n",
              "5  Corrected Academic calender -2022-2023-III sel...   \n",
              "6  Fwd: CIRCULAR-RIT/Academic/2022-2023/Faculty M...   \n",
              "7  CIRCULAR-RIT/Academic/2022-2023/Faculty Meetin...   \n",
              "8  suggested additional hours - III semester cour...   \n",
              "9                   Share request for \"AD 2022-2026\"   \n",
              "\n",
              "                                                from  \\\n",
              "0                                               from   \n",
              "1                     rit iso <ritiso@ritrjpm.ac.in>   \n",
              "2           Gnana Priya G <gnanapriya@ritrjpm.ac.in>   \n",
              "3  academiccoordinator rit <academiccoordinator@r...   \n",
              "4  academiccoordinator rit <academiccoordinator@r...   \n",
              "5  ritacademiccoordinator rit <ritacademiccoordin...   \n",
              "6  academiccoordinator rit <academiccoordinator@r...   \n",
              "7  academiccoordinator rit <academiccoordinator@r...   \n",
              "8  academiccoordinator rit <academiccoordinator@r...   \n",
              "9  \"Anbarasan C (via Google Sheets)\" <drive-share...   \n",
              "\n",
              "                              date  \\\n",
              "0                             date   \n",
              "1  Thu, 25 Aug 2022 12:47:41 +0530   \n",
              "2  Tue, 16 Aug 2022 11:08:05 +0530   \n",
              "3  Tue, 16 Aug 2022 10:42:23 +0530   \n",
              "4   Mon, 8 Aug 2022 14:58:53 +0530   \n",
              "5  Thu, 25 Aug 2022 12:01:56 +0530   \n",
              "6  Wed, 10 Aug 2022 13:00:04 +0530   \n",
              "7   Fri, 5 Aug 2022 16:38:25 +0530   \n",
              "8  Mon, 22 Aug 2022 11:21:45 +0530   \n",
              "9  Wed, 03 Aug 2022 09:36:14 +0000   \n",
              "\n",
              "                                                  to  \\\n",
              "0                                                 to   \n",
              "1                              faculty@ritrjpm.ac.in   \n",
              "2  academiccoordinator rit <academiccoordinator@r...   \n",
              "3             Gnana Priya <gnanapriya@ritrjpm.ac.in>   \n",
              "4              yogaraja C A <yogaraja@ritrjpm.ac.in>   \n",
              "5                              faculty@ritrjpm.ac.in   \n",
              "6                              faculty@ritrjpm.ac.in   \n",
              "7                              faculty@ritrjpm.ac.in   \n",
              "8  Vijayalakshmi K <vijayalakshmik@ritrjpm.ac.in>...   \n",
              "9                  academiccoordinator@ritrjpm.ac.in   \n",
              "\n",
              "                                                  Cc  \\\n",
              "0                                                 Cc   \n",
              "1  principal@ritrjpm.ac.in, vp@ritrjpm.ac.in, \\r\\...   \n",
              "2                                                NaN   \n",
              "3                                                NaN   \n",
              "4  Indhumathi M <indhumathi@ritrjpm.ac.in>, \\r\\n\\...   \n",
              "5  Principal <principal@ritrjpm.ac.in>, vice prin...   \n",
              "6  Principal <principal@ritrjpm.ac.in>, vice prin...   \n",
              "7  Principal <principal@ritrjpm.ac.in>, vice prin...   \n",
              "8                                                NaN   \n",
              "9                                                NaN   \n",
              "\n",
              "                                            recieved  \n",
              "0                                           recieved  \n",
              "1  by 2002:a05:7011:287:b0:2ed:b29:cc43 with SMTP...  \n",
              "2  by 2002:a05:7011:287:b0:2ed:b29:cc43 with SMTP...  \n",
              "3                                                NaN  \n",
              "4                                                NaN  \n",
              "5                                                NaN  \n",
              "6                                                NaN  \n",
              "7                                                NaN  \n",
              "8                                                NaN  \n",
              "9  by 2002:a05:7011:b90:b0:2ec:841e:4bfe with SMT...  "
            ]
          },
          "execution_count": 6,
          "metadata": {},
          "output_type": "execute_result"
        }
      ],
      "source": [
        "df=pd.read_csv(\"mailbox.csv\", names=[\"subject\",\"from\",\"date\",\"to\",\"Cc\",\"recieved\"])\n",
        "df.head(10)"
      ]
    },
    {
      "cell_type": "code",
      "execution_count": null,
      "metadata": {
        "colab": {
          "base_uri": "https://localhost:8080/"
        },
        "id": "HdLaBNIYoETZ",
        "outputId": "d530484b-107e-48b3-c8a5-2692d32cdacf"
      },
      "outputs": [
        {
          "data": {
            "text/plain": [
              "subject     object\n",
              "from        object\n",
              "date        object\n",
              "to          object\n",
              "Cc          object\n",
              "recieved    object\n",
              "dtype: object"
            ]
          },
          "execution_count": 7,
          "metadata": {},
          "output_type": "execute_result"
        }
      ],
      "source": [
        "df.dtypes"
      ]
    },
    {
      "cell_type": "code",
      "execution_count": null,
      "metadata": {
        "id": "2q0X3nxDoIzF"
      },
      "outputs": [],
      "source": [
        "df['date']=df['date'].apply(lambda x: pd.to_datetime(x,errors='coerce',utc=True) )"
      ]
    },
    {
      "cell_type": "code",
      "execution_count": null,
      "metadata": {
        "id": "3MGaGvX9oU70"
      },
      "outputs": [],
      "source": [
        "df = df[df['Cc'].notna()]\n",
        "df.to_csv('gmail.csv')"
      ]
    },
    {
      "cell_type": "code",
      "execution_count": null,
      "metadata": {
        "id": "P5_YNK1ZoYch"
      },
      "outputs": [],
      "source": [
        "import re\n",
        "def extract_email_ID(string):\n",
        "  email = re.findall(r'<(.+?)>', string)\n",
        "  if not email:\n",
        "    email = list(filter(lambda y: '@' in y, string.split()))\n",
        "  return email[0] if email else np.nan"
      ]
    },
    {
      "cell_type": "code",
      "execution_count": null,
      "metadata": {
        "id": "fhtt5lwCocnn"
      },
      "outputs": [],
      "source": [
        "df['from'] = df['from'].apply(lambda x: extract_email_ID(x))\n",
        "df['Cc']=df['Cc'].apply(lambda x:extract_email_ID(x))"
      ]
    },
    {
      "cell_type": "code",
      "execution_count": null,
      "metadata": {
        "id": "sJeUTYuupBSx"
      },
      "outputs": [],
      "source": [
        "myemail = 'kaliappan.ac.in'\n",
        "df['label'] = df['from'].apply(lambda x: 'sent' if x==myemail else 'inbox')"
      ]
    },
    {
      "cell_type": "code",
      "execution_count": null,
      "metadata": {
        "id": "JBqSkyLWpIeh"
      },
      "outputs": [],
      "source": [
        "df.drop(columns='to',inplace=True)"
      ]
    },
    {
      "cell_type": "code",
      "execution_count": null,
      "metadata": {
        "colab": {
          "base_uri": "https://localhost:8080/",
          "height": 372
        },
        "id": "sSp4aogXpMrM",
        "outputId": "f25c63c9-c03b-483a-a96a-232dd3524066"
      },
      "outputs": [
        {
          "data": {
            "text/html": [
              "\n",
              "  <div id=\"df-93b34046-a0fa-4b33-9575-65ea9dc74d4c\">\n",
              "    <div class=\"colab-df-container\">\n",
              "      <div>\n",
              "<style scoped>\n",
              "    .dataframe tbody tr th:only-of-type {\n",
              "        vertical-align: middle;\n",
              "    }\n",
              "\n",
              "    .dataframe tbody tr th {\n",
              "        vertical-align: top;\n",
              "    }\n",
              "\n",
              "    .dataframe thead th {\n",
              "        text-align: right;\n",
              "    }\n",
              "</style>\n",
              "<table border=\"1\" class=\"dataframe\">\n",
              "  <thead>\n",
              "    <tr style=\"text-align: right;\">\n",
              "      <th></th>\n",
              "      <th>subject</th>\n",
              "      <th>from</th>\n",
              "      <th>date</th>\n",
              "      <th>Cc</th>\n",
              "      <th>recieved</th>\n",
              "      <th>label</th>\n",
              "    </tr>\n",
              "  </thead>\n",
              "  <tbody>\n",
              "    <tr>\n",
              "      <th>1</th>\n",
              "      <td>ISO New Form - reg.</td>\n",
              "      <td>ritiso@ritrjpm.ac.in</td>\n",
              "      <td>2022-08-25 07:17:41+00:00</td>\n",
              "      <td>dgmadmin@ritrjpm.ac.in</td>\n",
              "      <td>by 2002:a05:7011:287:b0:2ed:b29:cc43 with SMTP...</td>\n",
              "      <td>inbox</td>\n",
              "    </tr>\n",
              "    <tr>\n",
              "      <th>4</th>\n",
              "      <td>V and VII semester open Elective list with han...</td>\n",
              "      <td>academiccoordinator@ritrjpm.ac.in</td>\n",
              "      <td>2022-08-08 09:28:53+00:00</td>\n",
              "      <td>indhumathi@ritrjpm.ac.in</td>\n",
              "      <td>NaN</td>\n",
              "      <td>inbox</td>\n",
              "    </tr>\n",
              "    <tr>\n",
              "      <th>5</th>\n",
              "      <td>Corrected Academic calender -2022-2023-III sel...</td>\n",
              "      <td>ritacademiccoordinator@ritrjpm.ac.in</td>\n",
              "      <td>2022-08-25 06:31:56+00:00</td>\n",
              "      <td>principal@ritrjpm.ac.in</td>\n",
              "      <td>NaN</td>\n",
              "      <td>inbox</td>\n",
              "    </tr>\n",
              "    <tr>\n",
              "      <th>6</th>\n",
              "      <td>Fwd: CIRCULAR-RIT/Academic/2022-2023/Faculty M...</td>\n",
              "      <td>academiccoordinator@ritrjpm.ac.in</td>\n",
              "      <td>2022-08-10 07:30:04+00:00</td>\n",
              "      <td>principal@ritrjpm.ac.in</td>\n",
              "      <td>NaN</td>\n",
              "      <td>inbox</td>\n",
              "    </tr>\n",
              "    <tr>\n",
              "      <th>7</th>\n",
              "      <td>CIRCULAR-RIT/Academic/2022-2023/Faculty Meetin...</td>\n",
              "      <td>academiccoordinator@ritrjpm.ac.in</td>\n",
              "      <td>2022-08-05 11:08:25+00:00</td>\n",
              "      <td>principal@ritrjpm.ac.in</td>\n",
              "      <td>NaN</td>\n",
              "      <td>inbox</td>\n",
              "    </tr>\n",
              "  </tbody>\n",
              "</table>\n",
              "</div>\n",
              "      <button class=\"colab-df-convert\" onclick=\"convertToInteractive('df-93b34046-a0fa-4b33-9575-65ea9dc74d4c')\"\n",
              "              title=\"Convert this dataframe to an interactive table.\"\n",
              "              style=\"display:none;\">\n",
              "        \n",
              "  <svg xmlns=\"http://www.w3.org/2000/svg\" height=\"24px\"viewBox=\"0 0 24 24\"\n",
              "       width=\"24px\">\n",
              "    <path d=\"M0 0h24v24H0V0z\" fill=\"none\"/>\n",
              "    <path d=\"M18.56 5.44l.94 2.06.94-2.06 2.06-.94-2.06-.94-.94-2.06-.94 2.06-2.06.94zm-11 1L8.5 8.5l.94-2.06 2.06-.94-2.06-.94L8.5 2.5l-.94 2.06-2.06.94zm10 10l.94 2.06.94-2.06 2.06-.94-2.06-.94-.94-2.06-.94 2.06-2.06.94z\"/><path d=\"M17.41 7.96l-1.37-1.37c-.4-.4-.92-.59-1.43-.59-.52 0-1.04.2-1.43.59L10.3 9.45l-7.72 7.72c-.78.78-.78 2.05 0 2.83L4 21.41c.39.39.9.59 1.41.59.51 0 1.02-.2 1.41-.59l7.78-7.78 2.81-2.81c.8-.78.8-2.07 0-2.86zM5.41 20L4 18.59l7.72-7.72 1.47 1.35L5.41 20z\"/>\n",
              "  </svg>\n",
              "      </button>\n",
              "      \n",
              "  <style>\n",
              "    .colab-df-container {\n",
              "      display:flex;\n",
              "      flex-wrap:wrap;\n",
              "      gap: 12px;\n",
              "    }\n",
              "\n",
              "    .colab-df-convert {\n",
              "      background-color: #E8F0FE;\n",
              "      border: none;\n",
              "      border-radius: 50%;\n",
              "      cursor: pointer;\n",
              "      display: none;\n",
              "      fill: #1967D2;\n",
              "      height: 32px;\n",
              "      padding: 0 0 0 0;\n",
              "      width: 32px;\n",
              "    }\n",
              "\n",
              "    .colab-df-convert:hover {\n",
              "      background-color: #E2EBFA;\n",
              "      box-shadow: 0px 1px 2px rgba(60, 64, 67, 0.3), 0px 1px 3px 1px rgba(60, 64, 67, 0.15);\n",
              "      fill: #174EA6;\n",
              "    }\n",
              "\n",
              "    [theme=dark] .colab-df-convert {\n",
              "      background-color: #3B4455;\n",
              "      fill: #D2E3FC;\n",
              "    }\n",
              "\n",
              "    [theme=dark] .colab-df-convert:hover {\n",
              "      background-color: #434B5C;\n",
              "      box-shadow: 0px 1px 3px 1px rgba(0, 0, 0, 0.15);\n",
              "      filter: drop-shadow(0px 1px 2px rgba(0, 0, 0, 0.3));\n",
              "      fill: #FFFFFF;\n",
              "    }\n",
              "  </style>\n",
              "\n",
              "      <script>\n",
              "        const buttonEl =\n",
              "          document.querySelector('#df-93b34046-a0fa-4b33-9575-65ea9dc74d4c button.colab-df-convert');\n",
              "        buttonEl.style.display =\n",
              "          google.colab.kernel.accessAllowed ? 'block' : 'none';\n",
              "\n",
              "        async function convertToInteractive(key) {\n",
              "          const element = document.querySelector('#df-93b34046-a0fa-4b33-9575-65ea9dc74d4c');\n",
              "          const dataTable =\n",
              "            await google.colab.kernel.invokeFunction('convertToInteractive',\n",
              "                                                     [key], {});\n",
              "          if (!dataTable) return;\n",
              "\n",
              "          const docLinkHtml = 'Like what you see? Visit the ' +\n",
              "            '<a target=\"_blank\" href=https://colab.research.google.com/notebooks/data_table.ipynb>data table notebook</a>'\n",
              "            + ' to learn more about interactive tables.';\n",
              "          element.innerHTML = '';\n",
              "          dataTable['output_type'] = 'display_data';\n",
              "          await google.colab.output.renderOutput(dataTable, element);\n",
              "          const docLink = document.createElement('div');\n",
              "          docLink.innerHTML = docLinkHtml;\n",
              "          element.appendChild(docLink);\n",
              "        }\n",
              "      </script>\n",
              "    </div>\n",
              "  </div>\n",
              "  "
            ],
            "text/plain": [
              "                                             subject  \\\n",
              "1                                ISO New Form - reg.   \n",
              "4  V and VII semester open Elective list with han...   \n",
              "5  Corrected Academic calender -2022-2023-III sel...   \n",
              "6  Fwd: CIRCULAR-RIT/Academic/2022-2023/Faculty M...   \n",
              "7  CIRCULAR-RIT/Academic/2022-2023/Faculty Meetin...   \n",
              "\n",
              "                                   from                      date  \\\n",
              "1                  ritiso@ritrjpm.ac.in 2022-08-25 07:17:41+00:00   \n",
              "4     academiccoordinator@ritrjpm.ac.in 2022-08-08 09:28:53+00:00   \n",
              "5  ritacademiccoordinator@ritrjpm.ac.in 2022-08-25 06:31:56+00:00   \n",
              "6     academiccoordinator@ritrjpm.ac.in 2022-08-10 07:30:04+00:00   \n",
              "7     academiccoordinator@ritrjpm.ac.in 2022-08-05 11:08:25+00:00   \n",
              "\n",
              "                         Cc  \\\n",
              "1    dgmadmin@ritrjpm.ac.in   \n",
              "4  indhumathi@ritrjpm.ac.in   \n",
              "5   principal@ritrjpm.ac.in   \n",
              "6   principal@ritrjpm.ac.in   \n",
              "7   principal@ritrjpm.ac.in   \n",
              "\n",
              "                                            recieved  label  \n",
              "1  by 2002:a05:7011:287:b0:2ed:b29:cc43 with SMTP...  inbox  \n",
              "4                                                NaN  inbox  \n",
              "5                                                NaN  inbox  \n",
              "6                                                NaN  inbox  \n",
              "7                                                NaN  inbox  "
            ]
          },
          "execution_count": 20,
          "metadata": {},
          "output_type": "execute_result"
        }
      ],
      "source": [
        "df.head(5)"
      ]
    },
    {
      "cell_type": "code",
      "execution_count": null,
      "metadata": {
        "colab": {
          "base_uri": "https://localhost:8080/"
        },
        "id": "lRkLuVyUpUR5",
        "outputId": "1dbd8850-5883-431e-ba7d-8e2ded88ef26"
      },
      "outputs": [
        {
          "data": {
            "text/plain": [
              "1            dgmadmin@ritrjpm.ac.in\n",
              "4          indhumathi@ritrjpm.ac.in\n",
              "5           principal@ritrjpm.ac.in\n",
              "6           principal@ritrjpm.ac.in\n",
              "7           principal@ritrjpm.ac.in\n",
              "13    rajakarunakaran@ritrjpm.ac.in\n",
              "16    rajakarunakaran@ritrjpm.ac.in\n",
              "Name: Cc, dtype: object"
            ]
          },
          "execution_count": 21,
          "metadata": {},
          "output_type": "execute_result"
        }
      ],
      "source": [
        "df['Cc']\n",
        "\n",
        "#Most no of Cc mails is sent to principal@ritrjpm.ac.in"
      ]
    },
    {
      "cell_type": "code",
      "execution_count": null,
      "metadata": {
        "colab": {
          "base_uri": "https://localhost:8080/"
        },
        "id": "-XMZDvPgpx7h",
        "outputId": "dd9fbfd6-df27-48db-8fc8-73e0c592ff7e"
      },
      "outputs": [
        {
          "name": "stdout",
          "output_type": "stream",
          "text": [
            "<class 'pandas.core.frame.DataFrame'>\n",
            "Int64Index: 7 entries, 1 to 16\n",
            "Data columns (total 6 columns):\n",
            " #   Column    Non-Null Count  Dtype              \n",
            "---  ------    --------------  -----              \n",
            " 0   subject   7 non-null      object             \n",
            " 1   from      7 non-null      object             \n",
            " 2   date      7 non-null      datetime64[ns, UTC]\n",
            " 3   Cc        7 non-null      object             \n",
            " 4   recieved  1 non-null      object             \n",
            " 5   label     7 non-null      object             \n",
            "dtypes: datetime64[ns, UTC](1), object(5)\n",
            "memory usage: 392.0+ bytes\n"
          ]
        }
      ],
      "source": [
        "df.info()\n"
      ]
    },
    {
      "cell_type": "code",
      "execution_count": null,
      "metadata": {
        "id": "lEe9djsDp71h"
      },
      "outputs": [],
      "source": [
        "import pytz\n",
        "def refactor_timezone(x):\n",
        "  ind = pytz.timezone('Asia/Kolkata')\n",
        "  return x.astimezone(ind)"
      ]
    },
    {
      "cell_type": "code",
      "execution_count": null,
      "metadata": {
        "id": "QDKRr8wCp93u"
      },
      "outputs": [],
      "source": [
        "df['date'] = df['date'].apply(lambda x: refactor_timezone(x))\n",
        "df['dayofweek'] = df['date'].apply(lambda x: x.day_name())\n",
        "df['dayofweek'] = pd.Categorical(df['dayofweek'], categories=['Monday', 'Tuesday', 'Wednesday', 'Thursday', 'Friday','Saturday', 'Sunday'], ordered=True)\n",
        "df['timeofday'] = df['date'].apply(lambda x: x.hour + x.minute/60+ x.second/3600)\n",
        "df['hour'] = df['date'].apply(lambda x: x.hour)\n",
        "df['year_int'] = df['date'].apply(lambda x: x.year)\n",
        "df['year'] = df['date'].apply(lambda x: x.year +x.dayofyear/365.25)\n",
        "df.index = df['date']\n",
        "del df['date']"
      ]
    },
    {
      "cell_type": "code",
      "execution_count": null,
      "metadata": {
        "colab": {
          "base_uri": "https://localhost:8080/"
        },
        "id": "lkz1XGi7p9uj",
        "outputId": "cfd71810-a55c-46ec-839e-934dc0963b8c"
      },
      "outputs": [
        {
          "name": "stdout",
          "output_type": "stream",
          "text": [
            "Thu, 17 Feb 2022 08:59 AM\n",
            "Thu, 25 Aug 2022 12:47 PM\n",
            "inbox    7\n",
            "Name: label, dtype: int64\n"
          ]
        }
      ],
      "source": [
        "print(df.index.min().strftime('%a, %d %b %Y %I:%M %p'))\n",
        "print(df.index.max().strftime('%a, %d %b %Y %I:%M %p'))\n",
        "print(df['label'].value_counts())"
      ]
    },
    {
      "cell_type": "code",
      "source": [
        "df.Cc.unique"
      ],
      "metadata": {
        "colab": {
          "base_uri": "https://localhost:8080/"
        },
        "id": "8mXSCO93wb-g",
        "outputId": "4c7077ce-562a-4f37-f868-b0e122d821cb"
      },
      "execution_count": 47,
      "outputs": [
        {
          "output_type": "execute_result",
          "data": {
            "text/plain": [
              "<bound method Series.unique of date\n",
              "2022-08-25 12:47:41+05:30           dgmadmin@ritrjpm.ac.in\n",
              "2022-08-08 14:58:53+05:30         indhumathi@ritrjpm.ac.in\n",
              "2022-08-25 12:01:56+05:30          principal@ritrjpm.ac.in\n",
              "2022-08-10 13:00:04+05:30          principal@ritrjpm.ac.in\n",
              "2022-08-05 16:38:25+05:30          principal@ritrjpm.ac.in\n",
              "2022-03-09 11:03:11+05:30    rajakarunakaran@ritrjpm.ac.in\n",
              "2022-02-17 08:59:56+05:30    rajakarunakaran@ritrjpm.ac.in\n",
              "Name: Cc, dtype: object>"
            ]
          },
          "metadata": {},
          "execution_count": 47
        }
      ]
    },
    {
      "cell_type": "code",
      "execution_count": 46,
      "metadata": {
        "colab": {
          "base_uri": "https://localhost:8080/",
          "height": 444
        },
        "id": "GCxmItxYqPKr",
        "outputId": "669e9aec-f823-449c-8f3d-e6f524c6e9d8"
      },
      "outputs": [
        {
          "output_type": "execute_result",
          "data": {
            "text/plain": [
              "Text(0, 0.5, 'Date')"
            ]
          },
          "metadata": {},
          "execution_count": 46
        },
        {
          "output_type": "display_data",
          "data": {
            "text/plain": [
              "<Figure size 432x288 with 1 Axes>"
            ],
            "image/png": "[encoded data removed]"
          },
          "metadata": {
            "needs_background": "light"
          }
        }
      ],
      "source": [
        "import matplotlib.pyplot as plt\n",
        "df.plot('Cc',kind='bar')\n",
        "plt.ylim(2000,2025)\n",
        "plt.xlabel('Cc')\n",
        "plt.ylabel('Date')"
      ]
    },
    {
      "cell_type": "code",
      "source": [
        "plt.plot(df['Cc'])"
      ],
      "metadata": {
        "colab": {
          "base_uri": "https://localhost:8080/",
          "height": 282
        },
        "id": "IX8UGUdixDh7",
        "outputId": "4fb533ea-43a1-4494-fe45-21905817f40f"
      },
      "execution_count": 48,
      "outputs": [
        {
          "output_type": "execute_result",
          "data": {
            "text/plain": [
              "[<matplotlib.lines.Line2D at 0x7f1060041510>]"
            ]
          },
          "metadata": {},
          "execution_count": 48
        },
        {
          "output_type": "display_data",
          "data": {
            "text/plain": [
              "<Figure size 432x288 with 1 Axes>"
            ],
            "image/png": "[encoded data removed]"
          },
          "metadata": {
            "needs_background": "light"
          }
        }
      ]
    }
  ],
  "metadata": {
    "colab": {
      "provenance": [],
      "authorship_tag": "ABX9TyPIZXj4KifZunfonbLUHoCl",
      "include_colab_link": true
    },
    "kernelspec": {
      "display_name": "Python 3",
      "name": "python3"
    },
    "language_info": {
      "name": "python"
    }
  },
  "nbformat": 4,
  "nbformat_minor": 0
}