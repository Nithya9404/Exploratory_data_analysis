{
 "cells": [
  {
   "cell_type": "code",
   "execution_count": 1,
   "id": "f4972d6b",
   "metadata": {
    "_cell_guid": "b1076dfc-b9ad-4769-8c92-a6c4dae69d19",
    "_uuid": "8f2839f25d086af736a60e9eeb907d3b93b6e0e5",
    "execution": {
     "iopub.execute_input": "2023-01-14T14:27:14.313518Z",
     "iopub.status.busy": "2023-01-14T14:27:14.313070Z",
     "iopub.status.idle": "2023-01-14T14:27:14.332835Z",
     "shell.execute_reply": "2023-01-14T14:27:14.332012Z"
    },
    "papermill": {
     "duration": 0.030501,
     "end_time": "2023-01-14T14:27:14.335419",
     "exception": false,
     "start_time": "2023-01-14T14:27:14.304918",
     "status": "completed"
    },
    "tags": []
   },
   "outputs": [
    {
     "name": "stdout",
     "output_type": "stream",
     "text": [
      "/kaggle/input/fraud-call-india-dataset/fraud_call.file\n"
     ]
    }
   ],
   "source": [
    "# This Python 3 environment comes with many helpful analytics libraries installed\n",
    "# It is defined by the kaggle/python Docker image: https://github.com/kaggle/docker-python\n",
    "# For example, here's several helpful packages to load\n",
    "\n",
    "import numpy as np # linear algebra\n",
    "import pandas as pd # data processing, CSV file I/O (e.g. pd.read_csv)\n",
    "\n",
    "# Input data files are available in the read-only \"../input/\" directory\n",
    "# For example, running this (by clicking run or pressing Shift+Enter) will list all files under the input directory\n",
    "\n",
    "import os\n",
    "for dirname, _, filenames in os.walk('/kaggle/input'):\n",
    "    for filename in filenames:\n",
    "        print(os.path.join(dirname, filename))\n",
    "\n",
    "# You can write up to 20GB to the current directory (/kaggle/working/) that gets preserved as output when you create a version using \"Save & Run All\" \n",
    "# You can also write temporary files to /kaggle/temp/, but they won't be saved outside of the current session"
   ]
  },
  {
   "cell_type": "code",
   "execution_count": 2,
   "id": "85ed829e",
   "metadata": {
    "execution": {
     "iopub.execute_input": "2023-01-14T14:27:14.346781Z",
     "iopub.status.busy": "2023-01-14T14:27:14.346336Z",
     "iopub.status.idle": "2023-01-14T14:27:14.351265Z",
     "shell.execute_reply": "2023-01-14T14:27:14.350011Z"
    },
    "papermill": {
     "duration": 0.013346,
     "end_time": "2023-01-14T14:27:14.353625",
     "exception": false,
     "start_time": "2023-01-14T14:27:14.340279",
     "status": "completed"
    },
    "tags": []
   },
   "outputs": [],
   "source": [
    "import numpy as np\n",
    "import csv"
   ]
  },
  {
   "cell_type": "code",
   "execution_count": 3,
   "id": "50465ff6",
   "metadata": {
    "execution": {
     "iopub.execute_input": "2023-01-14T14:27:14.365191Z",
     "iopub.status.busy": "2023-01-14T14:27:14.364771Z",
     "iopub.status.idle": "2023-01-14T14:27:14.401001Z",
     "shell.execute_reply": "2023-01-14T14:27:14.399979Z"
    },
    "papermill": {
     "duration": 0.04522,
     "end_time": "2023-01-14T14:27:14.403686",
     "exception": false,
     "start_time": "2023-01-14T14:27:14.358466",
     "status": "completed"
    },
    "tags": []
   },
   "outputs": [],
   "source": [
    "import pandas as pd\n",
    "df = pd.read_csv(\"../input/fraud-call-india-dataset/fraud_call.file\",sep='\\t',names=['type','clue'])"
   ]
  },
  {
   "cell_type": "code",
   "execution_count": 4,
   "id": "4af01a00",
   "metadata": {
    "execution": {
     "iopub.execute_input": "2023-01-14T14:27:14.414708Z",
     "iopub.status.busy": "2023-01-14T14:27:14.414321Z",
     "iopub.status.idle": "2023-01-14T14:27:14.435541Z",
     "shell.execute_reply": "2023-01-14T14:27:14.434133Z"
    },
    "papermill": {
     "duration": 0.029842,
     "end_time": "2023-01-14T14:27:14.438265",
     "exception": false,
     "start_time": "2023-01-14T14:27:14.408423",
     "status": "completed"
    },
    "tags": []
   },
   "outputs": [
    {
     "data": {
      "text/html": [
       "<div>\n",
       "<style scoped>\n",
       "    .dataframe tbody tr th:only-of-type {\n",
       "        vertical-align: middle;\n",
       "    }\n",
       "\n",
       "    .dataframe tbody tr th {\n",
       "        vertical-align: top;\n",
       "    }\n",
       "\n",
       "    .dataframe thead th {\n",
       "        text-align: right;\n",
       "    }\n",
       "</style>\n",
       "<table border=\"1\" class=\"dataframe\">\n",
       "  <thead>\n",
       "    <tr style=\"text-align: right;\">\n",
       "      <th></th>\n",
       "      <th>type</th>\n",
       "      <th>clue</th>\n",
       "    </tr>\n",
       "  </thead>\n",
       "  <tbody>\n",
       "    <tr>\n",
       "      <th>0</th>\n",
       "      <td>fraud</td>\n",
       "      <td>hello, i m bank manager of SBI, ur debit card ...</td>\n",
       "    </tr>\n",
       "    <tr>\n",
       "      <th>1</th>\n",
       "      <td>fraud</td>\n",
       "      <td>Todays Vodafone numbers ending with 4882 are s...</td>\n",
       "    </tr>\n",
       "    <tr>\n",
       "      <th>2</th>\n",
       "      <td>normal</td>\n",
       "      <td>Please don't say like that. Hi hi hi</td>\n",
       "    </tr>\n",
       "    <tr>\n",
       "      <th>3</th>\n",
       "      <td>normal</td>\n",
       "      <td>Thank you!</td>\n",
       "    </tr>\n",
       "    <tr>\n",
       "      <th>4</th>\n",
       "      <td>normal</td>\n",
       "      <td>Oh that was a forwarded message. I thought you...</td>\n",
       "    </tr>\n",
       "  </tbody>\n",
       "</table>\n",
       "</div>"
      ],
      "text/plain": [
       "     type                                               clue\n",
       "0   fraud  hello, i m bank manager of SBI, ur debit card ...\n",
       "1   fraud  Todays Vodafone numbers ending with 4882 are s...\n",
       "2  normal               Please don't say like that. Hi hi hi\n",
       "3  normal                                         Thank you!\n",
       "4  normal  Oh that was a forwarded message. I thought you..."
      ]
     },
     "execution_count": 4,
     "metadata": {},
     "output_type": "execute_result"
    }
   ],
   "source": [
    "df.head()"
   ]
  },
  {
   "cell_type": "code",
   "execution_count": 5,
   "id": "bc6a339c",
   "metadata": {
    "execution": {
     "iopub.execute_input": "2023-01-14T14:27:14.449803Z",
     "iopub.status.busy": "2023-01-14T14:27:14.449416Z",
     "iopub.status.idle": "2023-01-14T14:27:14.466709Z",
     "shell.execute_reply": "2023-01-14T14:27:14.465420Z"
    },
    "papermill": {
     "duration": 0.026229,
     "end_time": "2023-01-14T14:27:14.469460",
     "exception": false,
     "start_time": "2023-01-14T14:27:14.443231",
     "status": "completed"
    },
    "tags": []
   },
   "outputs": [
    {
     "data": {
      "text/plain": [
       "normal    5287\n",
       "fraud      638\n",
       "Name: type, dtype: int64"
      ]
     },
     "execution_count": 5,
     "metadata": {},
     "output_type": "execute_result"
    }
   ],
   "source": [
    "df['type'].value_counts()"
   ]
  },
  {
   "cell_type": "markdown",
   "id": "139ea9b6",
   "metadata": {
    "papermill": {
     "duration": 0.004832,
     "end_time": "2023-01-14T14:27:14.479609",
     "exception": false,
     "start_time": "2023-01-14T14:27:14.474777",
     "status": "completed"
    },
    "tags": []
   },
   "source": [
    "**There are totally 638 fraud calls**"
   ]
  },
  {
   "cell_type": "code",
   "execution_count": 6,
   "id": "67a26ebf",
   "metadata": {
    "execution": {
     "iopub.execute_input": "2023-01-14T14:27:14.492168Z",
     "iopub.status.busy": "2023-01-14T14:27:14.491743Z",
     "iopub.status.idle": "2023-01-14T14:27:14.675620Z",
     "shell.execute_reply": "2023-01-14T14:27:14.674454Z"
    },
    "papermill": {
     "duration": 0.194261,
     "end_time": "2023-01-14T14:27:14.679234",
     "exception": false,
     "start_time": "2023-01-14T14:27:14.484973",
     "status": "completed"
    },
    "tags": []
   },
   "outputs": [
    {
     "data": {
      "text/plain": [
       "Text(0, 0.5, 'count')"
      ]
     },
     "execution_count": 6,
     "metadata": {},
     "output_type": "execute_result"
    },
    {
     "data": {
      "image/png": "[encoded data removed]",
      "text/plain": [
       "<Figure size 432x288 with 1 Axes>"
      ]
     },
     "metadata": {
      "needs_background": "light"
     },
     "output_type": "display_data"
    }
   ],
   "source": [
    "import matplotlib.pyplot as plt\n",
    "\n",
    "plt.hist(df['type'],color = 'r')\n",
    "plt.title(\"Bar plot\")\n",
    "plt.xlabel(\"fraud calls vs normal calls\")\n",
    "plt.ylabel(\"count\")"
   ]
  },
  {
   "cell_type": "markdown",
   "id": "8fd17644",
   "metadata": {
    "papermill": {
     "duration": 0.005015,
     "end_time": "2023-01-14T14:27:14.689646",
     "exception": false,
     "start_time": "2023-01-14T14:27:14.684631",
     "status": "completed"
    },
    "tags": []
   },
   "source": [
    "**This shows that the fraud calls occurs very rarely according to this dataset that is once in a while. Our job is to find those correctly**"
   ]
  },
  {
   "cell_type": "markdown",
   "id": "d668d2b2",
   "metadata": {
    "papermill": {
     "duration": 0.004919,
     "end_time": "2023-01-14T14:27:14.699994",
     "exception": false,
     "start_time": "2023-01-14T14:27:14.695075",
     "status": "completed"
    },
    "tags": []
   },
   "source": [
    "**Creating Model**"
   ]
  },
  {
   "cell_type": "code",
   "execution_count": 7,
   "id": "db56f5e1",
   "metadata": {
    "execution": {
     "iopub.execute_input": "2023-01-14T14:27:14.712619Z",
     "iopub.status.busy": "2023-01-14T14:27:14.712181Z",
     "iopub.status.idle": "2023-01-14T14:27:16.202284Z",
     "shell.execute_reply": "2023-01-14T14:27:16.201210Z"
    },
    "papermill": {
     "duration": 1.500774,
     "end_time": "2023-01-14T14:27:16.206083",
     "exception": false,
     "start_time": "2023-01-14T14:27:14.705309",
     "status": "completed"
    },
    "tags": []
   },
   "outputs": [],
   "source": [
    "import seaborn as sns\n",
    "from sklearn import model_selection\n",
    "from sklearn.linear_model import LogisticRegression\n",
    "from sklearn.model_selection import train_test_split"
   ]
  },
  {
   "cell_type": "code",
   "execution_count": 8,
   "id": "7820a6d6",
   "metadata": {
    "execution": {
     "iopub.execute_input": "2023-01-14T14:27:16.220505Z",
     "iopub.status.busy": "2023-01-14T14:27:16.219766Z",
     "iopub.status.idle": "2023-01-14T14:27:16.238105Z",
     "shell.execute_reply": "2023-01-14T14:27:16.236670Z"
    },
    "papermill": {
     "duration": 0.028556,
     "end_time": "2023-01-14T14:27:16.241344",
     "exception": false,
     "start_time": "2023-01-14T14:27:16.212788",
     "status": "completed"
    },
    "tags": []
   },
   "outputs": [
    {
     "data": {
      "text/html": [
       "<div>\n",
       "<style scoped>\n",
       "    .dataframe tbody tr th:only-of-type {\n",
       "        vertical-align: middle;\n",
       "    }\n",
       "\n",
       "    .dataframe tbody tr th {\n",
       "        vertical-align: top;\n",
       "    }\n",
       "\n",
       "    .dataframe thead th {\n",
       "        text-align: right;\n",
       "    }\n",
       "</style>\n",
       "<table border=\"1\" class=\"dataframe\">\n",
       "  <thead>\n",
       "    <tr style=\"text-align: right;\">\n",
       "      <th></th>\n",
       "      <th>type</th>\n",
       "      <th>clue</th>\n",
       "    </tr>\n",
       "  </thead>\n",
       "  <tbody>\n",
       "    <tr>\n",
       "      <th>0</th>\n",
       "      <td>1</td>\n",
       "      <td>hello, i m bank manager of SBI, ur debit card ...</td>\n",
       "    </tr>\n",
       "    <tr>\n",
       "      <th>1</th>\n",
       "      <td>1</td>\n",
       "      <td>Todays Vodafone numbers ending with 4882 are s...</td>\n",
       "    </tr>\n",
       "    <tr>\n",
       "      <th>2</th>\n",
       "      <td>0</td>\n",
       "      <td>Please don't say like that. Hi hi hi</td>\n",
       "    </tr>\n",
       "    <tr>\n",
       "      <th>3</th>\n",
       "      <td>0</td>\n",
       "      <td>Thank you!</td>\n",
       "    </tr>\n",
       "    <tr>\n",
       "      <th>4</th>\n",
       "      <td>0</td>\n",
       "      <td>Oh that was a forwarded message. I thought you...</td>\n",
       "    </tr>\n",
       "  </tbody>\n",
       "</table>\n",
       "</div>"
      ],
      "text/plain": [
       "   type                                               clue\n",
       "0     1  hello, i m bank manager of SBI, ur debit card ...\n",
       "1     1  Todays Vodafone numbers ending with 4882 are s...\n",
       "2     0               Please don't say like that. Hi hi hi\n",
       "3     0                                         Thank you!\n",
       "4     0  Oh that was a forwarded message. I thought you..."
      ]
     },
     "execution_count": 8,
     "metadata": {},
     "output_type": "execute_result"
    }
   ],
   "source": [
    "df['type'].replace([\"fraud\",\"normal\"],[1,0],inplace=True)\n",
    "df.head(5)"
   ]
  },
  {
   "cell_type": "markdown",
   "id": "f3eb84a7",
   "metadata": {
    "papermill": {
     "duration": 0.006587,
     "end_time": "2023-01-14T14:27:16.256611",
     "exception": false,
     "start_time": "2023-01-14T14:27:16.250024",
     "status": "completed"
    },
    "tags": []
   },
   "source": [
    "**Label Encoder helps to convert the strings to numeric values**"
   ]
  },
  {
   "cell_type": "code",
   "execution_count": 9,
   "id": "6e5e5b67",
   "metadata": {
    "execution": {
     "iopub.execute_input": "2023-01-14T14:27:16.273386Z",
     "iopub.status.busy": "2023-01-14T14:27:16.272920Z",
     "iopub.status.idle": "2023-01-14T14:27:16.304052Z",
     "shell.execute_reply": "2023-01-14T14:27:16.302594Z"
    },
    "papermill": {
     "duration": 0.040936,
     "end_time": "2023-01-14T14:27:16.306748",
     "exception": false,
     "start_time": "2023-01-14T14:27:16.265812",
     "status": "completed"
    },
    "tags": []
   },
   "outputs": [
    {
     "data": {
      "text/plain": [
       "array([5434, 4350, 3513, ..., 5538, 5539, 5428])"
      ]
     },
     "execution_count": 9,
     "metadata": {},
     "output_type": "execute_result"
    }
   ],
   "source": [
    "from sklearn.preprocessing import LabelEncoder\n",
    "\n",
    "le = LabelEncoder()\n",
    "label = le.fit_transform(df['clue'])\n",
    "label"
   ]
  },
  {
   "cell_type": "code",
   "execution_count": 10,
   "id": "0df72139",
   "metadata": {
    "execution": {
     "iopub.execute_input": "2023-01-14T14:27:16.322250Z",
     "iopub.status.busy": "2023-01-14T14:27:16.321500Z",
     "iopub.status.idle": "2023-01-14T14:27:16.327318Z",
     "shell.execute_reply": "2023-01-14T14:27:16.325857Z"
    },
    "papermill": {
     "duration": 0.017762,
     "end_time": "2023-01-14T14:27:16.330686",
     "exception": false,
     "start_time": "2023-01-14T14:27:16.312924",
     "status": "completed"
    },
    "tags": []
   },
   "outputs": [],
   "source": [
    "label = label.reshape(-1,1)"
   ]
  },
  {
   "cell_type": "code",
   "execution_count": 11,
   "id": "72d3ffd6",
   "metadata": {
    "execution": {
     "iopub.execute_input": "2023-01-14T14:27:16.349894Z",
     "iopub.status.busy": "2023-01-14T14:27:16.349365Z",
     "iopub.status.idle": "2023-01-14T14:27:16.396520Z",
     "shell.execute_reply": "2023-01-14T14:27:16.394769Z"
    },
    "papermill": {
     "duration": 0.06065,
     "end_time": "2023-01-14T14:27:16.400461",
     "exception": false,
     "start_time": "2023-01-14T14:27:16.339811",
     "status": "completed"
    },
    "tags": []
   },
   "outputs": [
    {
     "name": "stdout",
     "output_type": "stream",
     "text": [
      "[[3735]\n",
      " [ 781]\n",
      " [1788]\n",
      " ...\n",
      " [5466]\n",
      " [2801]\n",
      " [4340]]\n",
      "[0 0 0 ... 0 0 0]\n"
     ]
    }
   ],
   "source": [
    "X = label\n",
    "Y = df['type']\n",
    "X_train,X_test,Y_train,Y_test = train_test_split(X,Y)\n",
    "\n",
    "model = LogisticRegression()\n",
    "model.fit(X_train,Y_train)\n",
    "\n",
    "y_pred = model.predict(X_test)\n",
    "print(X_test)\n",
    "print(y_pred)"
   ]
  },
  {
   "cell_type": "markdown",
   "id": "6587b55d",
   "metadata": {
    "papermill": {
     "duration": 0.007577,
     "end_time": "2023-01-14T14:27:16.417734",
     "exception": false,
     "start_time": "2023-01-14T14:27:16.410157",
     "status": "completed"
    },
    "tags": []
   },
   "source": [
    "**Calculating Accuracy of the model**"
   ]
  },
  {
   "cell_type": "code",
   "execution_count": 12,
   "id": "58dc3327",
   "metadata": {
    "execution": {
     "iopub.execute_input": "2023-01-14T14:27:16.433925Z",
     "iopub.status.busy": "2023-01-14T14:27:16.431988Z",
     "iopub.status.idle": "2023-01-14T14:27:16.445464Z",
     "shell.execute_reply": "2023-01-14T14:27:16.444257Z"
    },
    "papermill": {
     "duration": 0.024068,
     "end_time": "2023-01-14T14:27:16.448536",
     "exception": false,
     "start_time": "2023-01-14T14:27:16.424468",
     "status": "completed"
    },
    "tags": []
   },
   "outputs": [
    {
     "name": "stdout",
     "output_type": "stream",
     "text": [
      "Accuracy:  0.8960863697705803\n",
      "Precision:  1.0\n"
     ]
    }
   ],
   "source": [
    "from sklearn import metrics\n",
    "from sklearn.metrics import classification_report\n",
    "print(\"Accuracy: \",metrics.accuracy_score(Y_test,y_pred))\n",
    "print(\"Precision: \",metrics.precision_score(Y_test,y_pred,zero_division = 1))"
   ]
  }
 ],
 "metadata": {
  "kernelspec": {
   "display_name": "Python 3",
   "language": "python",
   "name": "python3"
  },
  "language_info": {
   "codemirror_mode": {
    "name": "ipython",
    "version": 3
   },
   "file_extension": ".py",
   "mimetype": "text/x-python",
   "name": "python",
   "nbconvert_exporter": "python",
   "pygments_lexer": "ipython3",
   "version": "3.7.12"
  },
  "papermill": {
   "default_parameters": {},
   "duration": 12.562431,
   "end_time": "2023-01-14T14:27:17.377747",
   "environment_variables": {},
   "exception": null,
   "input_path": "__notebook__.ipynb",
   "output_path": "__notebook__.ipynb",
   "parameters": {},
   "start_time": "2023-01-14T14:27:04.815316",
   "version": "2.3.4"
  }
 },
 "nbformat": 4,
 "nbformat_minor": 5
}
